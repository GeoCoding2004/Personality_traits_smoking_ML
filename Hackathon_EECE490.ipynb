{
  "nbformat": 4,
  "nbformat_minor": 0,
  "metadata": {
    "colab": {
      "provenance": []
    },
    "kernelspec": {
      "name": "python3",
      "display_name": "Python 3"
    },
    "language_info": {
      "name": "python"
    }
  },
  "cells": [
    {
      "cell_type": "markdown",
      "source": [
        "**This project aims to predict the number of cigarettes per day an individual will be smoking based on their personality traits. The objective is to explore the relationship between psychological factors and smoking behaviors using  predictive modeling techniques.** <br>\n",
        "\n",
        "**To address this problem, I implemented and compared two predictive modeling approaches:**\n",
        "1.   **Multinomial Logistic Regression (Softmax model): A straightforward classification model to predict smoking categories.**\n",
        "2.   **Fully Connected Neural Network: A more complex method designed to handle augmented data and capture non-linear relationships.**\n",
        "\n",
        "<br>\n",
        "\n",
        "**This project is an individual effort with no team members involved.**"
      ],
      "metadata": {
        "id": "DWYKYKFA9Kcn"
      }
    },
    {
      "cell_type": "code",
      "execution_count": 54,
      "metadata": {
        "id": "71pPAz3g8u5k"
      },
      "outputs": [],
      "source": [
        "# Here I am importing the necessary libraries\n",
        "import pandas as pd\n",
        "import numpy as np\n",
        "from sklearn.linear_model import LogisticRegression\n",
        "from sklearn.metrics import classification_report, accuracy_score\n",
        "from sklearn.model_selection import train_test_split\n",
        "from sklearn.preprocessing import StandardScaler\n",
        "import torch\n",
        "import torch.nn as nn\n",
        "import torch.optim as optim\n",
        "from sklearn.preprocessing import StandardScaler\n",
        "from sklearn.metrics import classification_report, accuracy_score\n",
        "from torch.utils.data import DataLoader, TensorDataset\n",
        "\n",
        "from sklearn.metrics import confusion_matrix\n",
        "import seaborn as sns\n",
        "import matplotlib.pyplot as plt\n"
      ]
    },
    {
      "cell_type": "code",
      "source": [
        "# Path to Excel file\n",
        "excel_file = '2024_PersonalityTraits_SurveyData.xls'\n",
        "\n",
        "# Columns to process (which are my features)\n",
        "columns_to_process = [\n",
        "    'I see myself as someone who is extraverted, enthusiastic:',\n",
        "    'I see myself as someone who is critical, quarrelsome:',\n",
        "    'I see myself as someone who is dependable, self-disciplined:',\n",
        "    'I see myself as someone who is anxious, easily upset:',\n",
        "    'I see myself as someone who is open to new experiences:',\n",
        "    'I see myself as someone who is reserved, quiet:',\n",
        "    'I see myself as someone who is sympathetic, warm:',\n",
        "    'I see myself as someone who is disorganized, careless:',\n",
        "    'I see myself as someone who is calm, emotionally stable:',\n",
        "    'I see myself as someone who is conventional, uncreative:',\n",
        "    'Do you find it difficult to refrain from smoking where it is forbidden (church, library, cinema, plane, etc...)?',\n",
        "    'How many cigarettes do you smoke each day?'\n",
        "]"
      ],
      "metadata": {
        "id": "iwH0OHDbLgIE"
      },
      "execution_count": 55,
      "outputs": []
    },
    {
      "cell_type": "code",
      "source": [
        "# Define the mapping dictionaries\n",
        "category_mapping = {\n",
        "    \"Agree strongly\": 7, \"Agree moderately\": 6, \"Agree a little\": 5,\n",
        "    \"Neither agree nor disagree\": 4, \"Disagree a little\": 3,\n",
        "    \"Disagree moderately\": 2, \"Disagree strongly\": 1\n",
        "}\n",
        "\n",
        "refrain_category_mapping = {\"No\": 0, \"Yes\": 1}\n",
        "\n",
        "output_mapping = {\n",
        "    \"10 or less cigarettes/day\": 0, \"11 to 20 cigarettes\": 1,\n",
        "    \"21 to 30 cigarettes\": 2, \"31 cigarettes/day or more\": 3\n",
        "}\n",
        "\n",
        "# Load and preprocess data\n",
        "df = pd.read_excel(excel_file, sheet_name='Sheet1', usecols=columns_to_process)\n",
        "\n",
        "# Drop rows with any NaN values\n",
        "df = df.dropna()\n"
      ],
      "metadata": {
        "id": "IUDCxZVPYy4-"
      },
      "execution_count": 56,
      "outputs": []
    },
    {
      "cell_type": "code",
      "source": [
        "# Define the output target\n",
        "target_column = 'How many cigarettes do you smoke each day?'\n",
        "\n",
        "features = df.drop(columns=[target_column])  # Features\n",
        "target = df[target_column]  # Target variable\n",
        "\n",
        "# Map the features and target\n",
        "features_mapped = features.copy()\n",
        "for column in features.columns:\n",
        "    if column == 'Do you find it difficult to refrain from smoking where it is forbidden (church, library, cinema, plane, etc...)?':\n",
        "        features_mapped[column] = features[column].map(refrain_category_mapping)\n",
        "    else:\n",
        "        features_mapped[column] = features[column].map(category_mapping)\n",
        "\n",
        "target_mapped = target.map(output_mapping)\n",
        "\n"
      ],
      "metadata": {
        "id": "BIvFroJssvI5"
      },
      "execution_count": 57,
      "outputs": []
    },
    {
      "cell_type": "code",
      "source": [
        "# Split the data into training+validation and testing sets (80% train+val, 20% test)\n",
        "X_train_val, X_test, y_train_val, y_test = train_test_split(\n",
        "    features_mapped, target_mapped, test_size=0.2, random_state=42\n",
        ")\n",
        "\n",
        "# Further split training+validation into training and validation sets (80% train, 20% val)\n",
        "X_train, X_val, y_train, y_val = train_test_split(\n",
        "    X_train_val, y_train_val, test_size=0.2, random_state=42\n",
        ")\n",
        "\n",
        "# Standardize the features\n",
        "scaler = StandardScaler()\n",
        "X_train = scaler.fit_transform(X_train)\n",
        "X_val = scaler.transform(X_val)\n",
        "X_test = scaler.transform(X_test)"
      ],
      "metadata": {
        "id": "akla52DMbHXn"
      },
      "execution_count": 58,
      "outputs": []
    },
    {
      "cell_type": "code",
      "source": [
        "# Train multinomial logistic regression (Softmax model)\n",
        "softmax_model = LogisticRegression(multi_class='multinomial', solver='lbfgs', max_iter=200, random_state=42)\n",
        "softmax_model.fit(X_train, y_train)\n",
        "\n",
        "# Evaluate on validation set\n",
        "y_val_pred = softmax_model.predict(X_val)\n",
        "print(\"Validation Accuracy:\", accuracy_score(y_val, y_val_pred))\n",
        "print(\"\\nValidation Classification Report:\\n\", classification_report(y_val, y_val_pred))\n",
        "\n",
        "# Evaluate on test set\n",
        "y_test_pred = softmax_model.predict(X_test)\n",
        "print(\"Test Accuracy:\", accuracy_score(y_test, y_test_pred))\n",
        "print(\"\\nTest Classification Report:\\n\", classification_report(y_test, y_test_pred))"
      ],
      "metadata": {
        "colab": {
          "base_uri": "https://localhost:8080/"
        },
        "id": "Nb43OI_gY9JT",
        "outputId": "ef019bb8-a2e0-436b-f0fa-bc3a02ef6676"
      },
      "execution_count": 59,
      "outputs": [
        {
          "output_type": "stream",
          "name": "stdout",
          "text": [
            "Validation Accuracy: 0.48484848484848486\n",
            "\n",
            "Validation Classification Report:\n",
            "               precision    recall  f1-score   support\n",
            "\n",
            "           0       0.47      0.58      0.52        12\n",
            "           1       0.78      0.44      0.56        16\n",
            "           2       0.29      0.50      0.36         4\n",
            "           3       0.00      0.00      0.00         1\n",
            "\n",
            "    accuracy                           0.48        33\n",
            "   macro avg       0.38      0.38      0.36        33\n",
            "weighted avg       0.58      0.48      0.50        33\n",
            "\n",
            "Test Accuracy: 0.5365853658536586\n",
            "\n",
            "Test Classification Report:\n",
            "               precision    recall  f1-score   support\n",
            "\n",
            "           0       0.78      0.82      0.80        17\n",
            "           1       0.67      0.50      0.57        12\n",
            "           2       0.12      0.17      0.14         6\n",
            "           3       0.17      0.17      0.17         6\n",
            "\n",
            "    accuracy                           0.54        41\n",
            "   macro avg       0.43      0.41      0.42        41\n",
            "weighted avg       0.56      0.54      0.54        41\n",
            "\n"
          ]
        },
        {
          "output_type": "stream",
          "name": "stderr",
          "text": [
            "/usr/local/lib/python3.10/dist-packages/sklearn/linear_model/_logistic.py:1247: FutureWarning: 'multi_class' was deprecated in version 1.5 and will be removed in 1.7. From then on, it will always use 'multinomial'. Leave it to its default value to avoid this warning.\n",
            "  warnings.warn(\n"
          ]
        }
      ]
    },
    {
      "cell_type": "code",
      "source": [
        "# Compute confusion matrix\n",
        "cm = confusion_matrix(y_test, y_test_pred)\n",
        "\n",
        "# Print the confusion matrix as text\n",
        "print(\"Confusion Matrix:\")\n",
        "print(cm)\n",
        "\n",
        "# Plot the confusion matrix as a heatmap\n",
        "plt.figure(figsize=(8, 6))\n",
        "sns.heatmap(cm, annot=True, fmt='d', cmap='Blues', xticklabels=['0-10', '11-20', '21-30', '31+'], yticklabels=['0-10', '11-20', '21-30', '31+'])\n",
        "plt.xlabel('Predicted')\n",
        "plt.ylabel('Actual')\n",
        "plt.title('Confusion Matrix for Logistic Regression')\n",
        "plt.show()"
      ],
      "metadata": {
        "colab": {
          "base_uri": "https://localhost:8080/",
          "height": 655
        },
        "id": "CMPw5p1-hKp4",
        "outputId": "2d5403f3-448d-44aa-f2cf-62db0d9968a1"
      },
      "execution_count": 60,
      "outputs": [
        {
          "output_type": "stream",
          "name": "stdout",
          "text": [
            "Confusion Matrix:\n",
            "[[14  2  1  0]\n",
            " [ 3  6  1  2]\n",
            " [ 1  1  1  3]\n",
            " [ 0  0  5  1]]\n"
          ]
        },
        {
          "output_type": "display_data",
          "data": {
            "text/plain": [
              "<Figure size 800x600 with 2 Axes>"
            ],
            "image/png": "[encoded data removed]"
          },
          "metadata": {}
        }
      ]
    },
    {
      "cell_type": "markdown",
      "source": [
        "**The results indicate that classes 2 and 3, corresponding to 21–30 cigarettes per day and more than 31 cigarettes per day, are underrepresented in predictions. This discrepancy is likely due to the imbalanced distribution of data, with these categories having significantly fewer samples than others.**\n",
        "\n",
        "**Proposed Solution: Addressing Class Imbalance with Data Augmentation**\n",
        "\n",
        "**To leverage the augmented data effectively, I implemented a fully connected neural network. Neural networks are well-suited for this task as they can generalize better with larger and more balanced datasets.**"
      ],
      "metadata": {
        "id": "bwaod1bZcrbr"
      }
    },
    {
      "cell_type": "code",
      "source": [
        "# Function to set random seeds for reproducibility\n",
        "def set_seed(seed=42):\n",
        "    np.random.seed(seed)\n",
        "    torch.manual_seed(seed)\n",
        "    if torch.cuda.is_available():\n",
        "        torch.cuda.manual_seed(seed)\n",
        "        torch.cuda.manual_seed_all(seed)\n",
        "    torch.backends.cudnn.deterministic = True\n",
        "    torch.backends.cudnn.benchmark = False\n",
        "\n",
        "# Set the seed\n",
        "set_seed()"
      ],
      "metadata": {
        "id": "BlyTGqxMZD9y"
      },
      "execution_count": 61,
      "outputs": []
    },
    {
      "cell_type": "code",
      "source": [
        "# Function to augment data for minority classes\n",
        "def augment_data(X, y, target_class, augmentation_factor=2, noise_level=0.01):\n",
        "\n",
        "    # Filter the samples belonging to the target class\n",
        "    target_indices = np.where(y == target_class)[0]\n",
        "    X_target = X[target_indices]\n",
        "    y_target = y[target_indices]\n",
        "\n",
        "    # Duplicate samples and add random noise\n",
        "    augmented_X = []\n",
        "    augmented_y = []\n",
        "    for _ in range(augmentation_factor):\n",
        "        noisy_samples = X_target + np.random.normal(0, noise_level, X_target.shape)\n",
        "        augmented_X.append(noisy_samples)\n",
        "        augmented_y.append(y_target)\n",
        "\n",
        "    # Combine augmented samples\n",
        "    augmented_X = np.vstack(augmented_X)\n",
        "    augmented_y = np.hstack(augmented_y)\n",
        "\n",
        "    return augmented_X, augmented_y"
      ],
      "metadata": {
        "id": "y3k-n_2ZboCa"
      },
      "execution_count": 62,
      "outputs": []
    },
    {
      "cell_type": "code",
      "source": [
        "target_mapped = target.map(output_mapping).to_numpy()\n",
        "features_mapped = features_mapped.to_numpy()\n",
        "\n",
        "# Augment data for classes 2 and 3\n",
        "augmented_X_2, augmented_y_2 = augment_data(features_mapped, target_mapped, target_class=2, augmentation_factor=3)\n",
        "augmented_X_3, augmented_y_3 = augment_data(features_mapped, target_mapped, target_class=3, augmentation_factor=3)\n",
        "\n",
        "# Combine original and augmented data\n",
        "X_combined = np.vstack([features_mapped, augmented_X_2, augmented_X_3])\n",
        "y_combined = np.hstack([target_mapped, augmented_y_2, augmented_y_3])\n",
        "\n",
        "# Standardize the features\n",
        "scaler = StandardScaler()\n",
        "X_combined = scaler.fit_transform(X_combined)\n",
        "\n",
        "# Convert data to PyTorch tensors\n",
        "X_tensor = torch.tensor(X_combined, dtype=torch.float32)\n",
        "y_tensor = torch.tensor(y_combined, dtype=torch.long)\n",
        "\n",
        "# Create DataLoader for the entire dataset\n",
        "dataset = TensorDataset(X_tensor, y_tensor)\n",
        "data_loader = DataLoader(dataset, batch_size=16, shuffle=True)\n",
        "\n",
        "# Define the neural network model\n",
        "class NeuralNet(nn.Module):\n",
        "    def __init__(self, input_size, num_classes):\n",
        "        super(NeuralNet, self).__init__()\n",
        "        self.fc1 = nn.Linear(input_size, 16)  # Input to hidden layer\n",
        "        self.relu = nn.ReLU()\n",
        "        self.fc2 = nn.Linear(16, 8)          # Hidden to hidden layer\n",
        "        self.fc3 = nn.Linear(8, num_classes)  # Hidden to output layer\n",
        "        self.softmax = nn.Softmax(dim=1)\n",
        "\n",
        "    def forward(self, x):\n",
        "        x = self.fc1(x)\n",
        "        x = self.relu(x)\n",
        "        x = self.fc2(x)\n",
        "        x = self.relu(x)\n",
        "        x = self.fc3(x)\n",
        "        return self.softmax(x)\n",
        "\n",
        "# Initialize the model, loss function, and optimizer\n",
        "model = NeuralNet(input_size=X_combined.shape[1], num_classes=4)\n",
        "criterion = nn.CrossEntropyLoss()\n",
        "optimizer = optim.Adam(model.parameters(), lr=0.001)\n",
        "\n",
        "# Train the model\n",
        "num_epochs = 100\n",
        "for epoch in range(num_epochs):\n",
        "    model.train()\n",
        "    train_loss = 0\n",
        "    for X_batch, y_batch in data_loader:\n",
        "        # Forward pass\n",
        "        outputs = model(X_batch)\n",
        "        loss = criterion(outputs, y_batch)\n",
        "\n",
        "        # Backward pass and optimization\n",
        "        optimizer.zero_grad()\n",
        "        loss.backward()\n",
        "        optimizer.step()\n",
        "\n",
        "        train_loss += loss.item()\n",
        "\n",
        "    print(f\"Epoch {epoch+1}/{num_epochs}, Loss: {train_loss:.4f}\")\n",
        "\n",
        "# Evaluate on the combined dataset\n",
        "model.eval()\n",
        "with torch.no_grad():\n",
        "    outputs = model(X_tensor)\n",
        "    _, y_pred = torch.max(outputs, 1)\n",
        "\n",
        "# Print classification report\n",
        "print(\"\\nClassification Report:\\n\", classification_report(y_combined, y_pred.numpy()))\n",
        "\n",
        "# Calculate total accuracy\n",
        "total_correct = (y_pred.numpy() == y_combined).sum()\n",
        "total_accuracy = total_correct / len(y_combined)\n",
        "\n",
        "print(f\"\\nTotal Accuracy: {total_accuracy:.4f}\")\n",
        "\n",
        "\n",
        "\n"
      ],
      "metadata": {
        "colab": {
          "base_uri": "https://localhost:8080/"
        },
        "id": "CWAIPew0ZHj8",
        "outputId": "4f98216d-1375-46c6-c541-c874e52ca511"
      },
      "execution_count": 63,
      "outputs": [
        {
          "output_type": "stream",
          "name": "stdout",
          "text": [
            "Epoch 1/100, Loss: 34.7343\n",
            "Epoch 2/100, Loss: 34.6075\n",
            "Epoch 3/100, Loss: 34.4669\n",
            "Epoch 4/100, Loss: 34.3001\n",
            "Epoch 5/100, Loss: 34.0692\n",
            "Epoch 6/100, Loss: 33.7197\n",
            "Epoch 7/100, Loss: 33.2135\n",
            "Epoch 8/100, Loss: 32.6269\n",
            "Epoch 9/100, Loss: 32.1685\n",
            "Epoch 10/100, Loss: 31.8021\n",
            "Epoch 11/100, Loss: 31.4951\n",
            "Epoch 12/100, Loss: 31.1998\n",
            "Epoch 13/100, Loss: 30.9072\n",
            "Epoch 14/100, Loss: 30.6292\n",
            "Epoch 15/100, Loss: 30.3810\n",
            "Epoch 16/100, Loss: 30.1302\n",
            "Epoch 17/100, Loss: 29.9389\n",
            "Epoch 18/100, Loss: 29.7208\n",
            "Epoch 19/100, Loss: 29.5235\n",
            "Epoch 20/100, Loss: 29.3161\n",
            "Epoch 21/100, Loss: 29.1356\n",
            "Epoch 22/100, Loss: 28.9557\n",
            "Epoch 23/100, Loss: 28.7672\n",
            "Epoch 24/100, Loss: 28.5821\n",
            "Epoch 25/100, Loss: 28.4075\n",
            "Epoch 26/100, Loss: 28.1685\n",
            "Epoch 27/100, Loss: 27.9549\n",
            "Epoch 28/100, Loss: 27.7290\n",
            "Epoch 29/100, Loss: 27.5311\n",
            "Epoch 30/100, Loss: 27.3318\n",
            "Epoch 31/100, Loss: 27.1319\n",
            "Epoch 32/100, Loss: 26.9670\n",
            "Epoch 33/100, Loss: 26.8126\n",
            "Epoch 34/100, Loss: 26.5994\n",
            "Epoch 35/100, Loss: 26.4676\n",
            "Epoch 36/100, Loss: 26.3370\n",
            "Epoch 37/100, Loss: 26.1998\n",
            "Epoch 38/100, Loss: 26.0929\n",
            "Epoch 39/100, Loss: 25.9603\n",
            "Epoch 40/100, Loss: 25.8409\n",
            "Epoch 41/100, Loss: 25.7377\n",
            "Epoch 42/100, Loss: 25.6343\n",
            "Epoch 43/100, Loss: 25.5454\n",
            "Epoch 44/100, Loss: 25.4680\n",
            "Epoch 45/100, Loss: 25.3991\n",
            "Epoch 46/100, Loss: 25.2946\n",
            "Epoch 47/100, Loss: 25.2430\n",
            "Epoch 48/100, Loss: 25.1572\n",
            "Epoch 49/100, Loss: 25.0861\n",
            "Epoch 50/100, Loss: 25.0214\n",
            "Epoch 51/100, Loss: 24.9447\n",
            "Epoch 52/100, Loss: 24.9001\n",
            "Epoch 53/100, Loss: 24.8319\n",
            "Epoch 54/100, Loss: 24.7761\n",
            "Epoch 55/100, Loss: 24.7317\n",
            "Epoch 56/100, Loss: 24.6622\n",
            "Epoch 57/100, Loss: 24.6122\n",
            "Epoch 58/100, Loss: 24.5847\n",
            "Epoch 59/100, Loss: 24.5395\n",
            "Epoch 60/100, Loss: 24.4495\n",
            "Epoch 61/100, Loss: 24.4108\n",
            "Epoch 62/100, Loss: 24.3763\n",
            "Epoch 63/100, Loss: 24.3264\n",
            "Epoch 64/100, Loss: 24.2804\n",
            "Epoch 65/100, Loss: 24.2383\n",
            "Epoch 66/100, Loss: 24.1962\n",
            "Epoch 67/100, Loss: 24.1613\n",
            "Epoch 68/100, Loss: 24.1243\n",
            "Epoch 69/100, Loss: 24.1170\n",
            "Epoch 70/100, Loss: 24.0528\n",
            "Epoch 71/100, Loss: 24.0135\n",
            "Epoch 72/100, Loss: 23.9892\n",
            "Epoch 73/100, Loss: 23.9488\n",
            "Epoch 74/100, Loss: 23.9192\n",
            "Epoch 75/100, Loss: 23.8853\n",
            "Epoch 76/100, Loss: 23.8694\n",
            "Epoch 77/100, Loss: 23.8251\n",
            "Epoch 78/100, Loss: 23.8027\n",
            "Epoch 79/100, Loss: 23.7825\n",
            "Epoch 80/100, Loss: 23.7470\n",
            "Epoch 81/100, Loss: 23.6976\n",
            "Epoch 82/100, Loss: 23.6868\n",
            "Epoch 83/100, Loss: 23.6477\n",
            "Epoch 84/100, Loss: 23.6237\n",
            "Epoch 85/100, Loss: 23.6013\n",
            "Epoch 86/100, Loss: 23.5643\n",
            "Epoch 87/100, Loss: 23.5480\n",
            "Epoch 88/100, Loss: 23.5159\n",
            "Epoch 89/100, Loss: 23.4907\n",
            "Epoch 90/100, Loss: 23.4606\n",
            "Epoch 91/100, Loss: 23.4513\n",
            "Epoch 92/100, Loss: 23.4145\n",
            "Epoch 93/100, Loss: 23.3876\n",
            "Epoch 94/100, Loss: 23.3585\n",
            "Epoch 95/100, Loss: 23.3509\n",
            "Epoch 96/100, Loss: 23.3267\n",
            "Epoch 97/100, Loss: 23.3158\n",
            "Epoch 98/100, Loss: 23.2812\n",
            "Epoch 99/100, Loss: 23.2669\n",
            "Epoch 100/100, Loss: 23.2423\n",
            "\n",
            "Classification Report:\n",
            "               precision    recall  f1-score   support\n",
            "\n",
            "           0       0.68      0.86      0.76        77\n",
            "           1       0.79      0.44      0.56        62\n",
            "           2       0.84      0.93      0.88       164\n",
            "           3       0.95      0.88      0.91        96\n",
            "\n",
            "    accuracy                           0.82       399\n",
            "   macro avg       0.82      0.77      0.78       399\n",
            "weighted avg       0.83      0.82      0.82       399\n",
            "\n",
            "\n",
            "Total Accuracy: 0.8246\n"
          ]
        }
      ]
    },
    {
      "cell_type": "markdown",
      "source": [
        "**Results: The fully connected neural network, coupled with data augmentation, achieved an accuracy of 82.46%, significantly outperforming the logistic regression model, which achieved 53.65%. This highlights the advantage of addressing class imbalance and utilizing more complex modeling techniques for this dataset.**\n",
        "\n",
        "**This analysis demonstrates that addressing class imbalance through data augmentation can significantly enhance predictive performance. While logistic regression is a viable option for simpler tasks, neural networks are more effective in capturing complex patterns in balanced datasets. The comparison underscores the importance of selecting the appropriate modeling approach based on the nature of the problem and dataset characteristics.**\n",
        "\n",
        "#**We can conclude that personality traits can be a strong indicator of how many cigarettes per day a person smokes**\n",
        "\n",
        "\n",
        "\n"
      ],
      "metadata": {
        "id": "9gQGaYp2aQcX"
      }
    }
  ]
}